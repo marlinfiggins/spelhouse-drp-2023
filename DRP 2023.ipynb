{
 "cells": [
  {
   "cell_type": "code",
   "execution_count": 1,
   "id": "cd067a9a",
   "metadata": {},
   "outputs": [],
   "source": [
    "import matplotlib\n",
    "import numpy as np\n",
    "from matplotlib import pyplot as plt\n",
    "import scipy\n",
    "import random\n",
    "import sys"
   ]
  },
  {
   "cell_type": "markdown",
   "id": "469a7a96",
   "metadata": {},
   "source": [
    "def poisson(mu):\n",
    "    k = random.randint(0, 2^20)\n",
    "    return (pow(mu, k)*np.math.exp(-mu))/np.math.factorial(k)"
   ]
  },
  {
   "cell_type": "code",
   "execution_count": 3,
   "id": "5cd89e5a",
   "metadata": {},
   "outputs": [],
   "source": [
    "def GaltWatBranch(dist, gen_total):\n",
    "    repro = 1.5\n",
    "    \n",
    "    #storage of important values from branching process\n",
    "    class report():\n",
    "        extinctBool = False\n",
    "        extinctGen = 0\n",
    "        offspring = []\n",
    "    \n",
    "    #Branching process\n",
    "    gen = 0\n",
    "    current_gen = [1]\n",
    "    while (gen < gen_total and current_gen[gen] != 0):\n",
    "        gen = gen+1\n",
    "        current_gen.append(0)\n",
    "        for offspring in range(current_gen[gen-1]):\n",
    "            current_gen[gen] += dist(repro)\n",
    "        print(\"Generation: \" + str(gen) + \", Offspring Count: \" + str(current_gen[gen]))\n",
    "    #Results of branching process which went extinct within 10 generations\n",
    "    if current_gen[gen] == 0:\n",
    "        BranchStats = report()\n",
    "        BranchStats.offspring = current_gen\n",
    "        BranchStats.extinctGen = gen\n",
    "        BranchStats.extinctBool = True\n",
    "        return BranchStats\n",
    "    #Results of branching process which didn't go extinct\n",
    "    else:\n",
    "        BranchStats = report()\n",
    "        BranchStats.offspring = current_gen\n",
    "        return BranchStats"
   ]
  },
  {
   "cell_type": "code",
   "execution_count": 163,
   "id": "662f344c",
   "metadata": {
    "scrolled": false
   },
   "outputs": [],
   "source": [
    "def GammaPoissonMix(mu):\n",
    "    gammaMu = scipy.stats.gamma.rvs(mu)\n",
    "    return scipy.stats.poisson.rvs(gammaMu)"
   ]
  },
  {
   "cell_type": "code",
   "execution_count": 162,
   "id": "b9dd9d08",
   "metadata": {
    "scrolled": true
   },
   "outputs": [
    {
     "name": "stdout",
     "output_type": "stream",
     "text": [
      "Generation: 1, Offspring Count: 3\n",
      "Generation: 2, Offspring Count: 2\n",
      "Generation: 3, Offspring Count: 4\n",
      "Generation: 4, Offspring Count: 11\n",
      "Generation: 5, Offspring Count: 17\n",
      "Generation: 6, Offspring Count: 27\n",
      "Generation: 7, Offspring Count: 48\n",
      "Generation: 8, Offspring Count: 79\n",
      "Generation: 9, Offspring Count: 120\n",
      "Generation: 10, Offspring Count: 169\n"
     ]
    },
    {
     "data": {
      "text/plain": [
       "[1, 3, 2, 4, 11, 17, 27, 48, 79, 120, 169]"
      ]
     },
     "execution_count": 162,
     "metadata": {},
     "output_type": "execute_result"
    }
   ],
   "source": [
    "GaltWatBranch(scipy.stats.poisson.rvs, 10).offspring"
   ]
  },
  {
   "cell_type": "code",
   "execution_count": 175,
   "id": "e8897789",
   "metadata": {
    "scrolled": false
   },
   "outputs": [
    {
     "name": "stdout",
     "output_type": "stream",
     "text": [
      "Generation: 1, Offspring Count: 1\n",
      "Generation: 2, Offspring Count: 3\n",
      "Generation: 3, Offspring Count: 6\n",
      "Generation: 4, Offspring Count: 2\n",
      "Generation: 5, Offspring Count: 1\n",
      "Generation: 6, Offspring Count: 0\n"
     ]
    },
    {
     "data": {
      "text/plain": [
       "[1, 1, 3, 6, 2, 1, 0]"
      ]
     },
     "execution_count": 175,
     "metadata": {},
     "output_type": "execute_result"
    }
   ],
   "source": [
    "GaltWatBranch(GammaPoissonMix, 10).offspring"
   ]
  }
 ],
 "metadata": {
  "kernelspec": {
   "display_name": "Python 3 (ipykernel)",
   "language": "python",
   "name": "python3"
  },
  "language_info": {
   "codemirror_mode": {
    "name": "ipython",
    "version": 3
   },
   "file_extension": ".py",
   "mimetype": "text/x-python",
   "name": "python",
   "nbconvert_exporter": "python",
   "pygments_lexer": "ipython3",
   "version": "3.11.2"
  }
 },
 "nbformat": 4,
 "nbformat_minor": 5
}
